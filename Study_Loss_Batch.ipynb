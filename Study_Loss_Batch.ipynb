{
 "cells": [
  {
   "cell_type": "code",
   "execution_count": 7,
   "id": "cbcf43d6-cff6-4b1e-898f-adf9e33f179a",
   "metadata": {},
   "outputs": [],
   "source": [
    "import os,glob\n",
    "import torch\n",
    "import matplotlib\n",
    "import matplotlib.pylab as plt\n",
    "import numpy as np\n",
    "import librosa\n",
    "import soundfile as sf\n",
    "from matplotlib import cm\n",
    "import torch"
   ]
  },
  {
   "cell_type": "code",
   "execution_count": 8,
   "id": "ee96c6fa-c4f8-465e-874f-a0e81d9039df",
   "metadata": {},
   "outputs": [],
   "source": [
    "root_sample = '/home/data/kbh/Study_Loss/'"
   ]
  },
  {
   "cell_type": "markdown",
   "id": "f028d5a8-bbda-4ae0-815e-cf0ba21b4538",
   "metadata": {},
   "source": [
    "## Aux Funcs"
   ]
  },
  {
   "cell_type": "code",
   "execution_count": 9,
   "id": "f5d033a9-7598-4877-a491-f4288db46c65",
   "metadata": {},
   "outputs": [],
   "source": [
    "def spectrogram(x) : \n",
    "    eps = 1e-13\n",
    "\n",
    "    # dB scale\n",
    "    tmp = np.sqrt(x[:,:,0]**2 + x[:,:,0]**2)\n",
    "    tmp = np.clip(tmp,a_min=eps,a_max=None)\n",
    "    tmp = 10*np.log10(tmp)\n",
    "    tmp = tmp[::-1,:]\n",
    "\n",
    "    im = plt.imshow(tmp, cmap=cm.jet, aspect='auto')\n",
    "    plt.colorbar(im)\n",
    "    plt.clim(-80,20)\n",
    "    plt.show()"
   ]
  },
  {
   "cell_type": "code",
   "execution_count": 41,
   "id": "ab3e5005-1bed-45fa-8da5-d8fbef796b86",
   "metadata": {},
   "outputs": [],
   "source": [
    "window = torch.hann_window(window_length=1024, periodic=True,\n",
    "                               dtype=None, layout=torch.strided, device=None,\n",
    "                               requires_grad=False)\n",
    "\n",
    "def Load(root,category):\n",
    "    n_fft = 1024\n",
    "    sr = 16000\n",
    "    length = 16*15\n",
    "\n",
    "    batch_wav = None\n",
    "    batch_spec = None\n",
    "    \n",
    "    list_path = [x for x in glob.glob(os.path.join(root,category,'*.pt'))]\n",
    "    list_name = [x.split('/')[-1] for x in list_path]\n",
    "    list_id   = [x.split('.')[0] for x in list_name]\n",
    "    \n",
    "    for id in list_id :\n",
    "        tmp_spec = torch.load(root + '/' + category +'/'+id + '.pt')\n",
    "        tmp_spec = torch.squeeze(tmp_spec)\n",
    "        tmp_spec = tmp_spec[:,:length,:]\n",
    "        tmp_wav = torch.istft(tmp_spec,n_fft=1024, hop_length = 256, \n",
    "                  window=window, center = True, normalized=False,onesided=True,\n",
    "                  length=length*256)    \n",
    "            \n",
    "        tmp_spec = torch.unsqueeze(tmp_spec,0)\n",
    "        tmp_wav  = torch.unsqueeze(tmp_wav,0)\n",
    "            \n",
    "        #print('------')\n",
    "        #print(tmp_spec.shape)\n",
    "        #print(tmp_wav.shape)   \n",
    "            \n",
    "        if batch_spec is None :\n",
    "            batch_spec = tmp_spec\n",
    "            batch_wav  = tmp_wav\n",
    "        else :\n",
    "            batch_spec = torch.cat((batch_spec,tmp_spec),0)\n",
    "            batch_wav = torch.cat((batch_wav,tmp_wav),0)\n",
    "        #print(batch_spec.shape)\n",
    "        #print(batch_wav.shape)\n",
    "            \n",
    "    return batch_wav, batch_spec"
   ]
  },
  {
   "cell_type": "code",
   "execution_count": 42,
   "id": "724e1a54-c081-47d7-9902-3867e45a8816",
   "metadata": {},
   "outputs": [
    {
     "name": "stdout",
     "output_type": "stream",
     "text": [
      "torch.Size([10, 61440])\n",
      "torch.Size([10, 513, 240, 2])\n",
      "torch.Size([10, 61440])\n",
      "torch.Size([10, 513, 240, 2])\n",
      "torch.Size([10, 61440])\n",
      "torch.Size([10, 513, 240, 2])\n"
     ]
    }
   ],
   "source": [
    "clean_wav, clean_spec = Load(root_sample,'clean')\n",
    "estim_wav, estim_spec = Load(root_sample,'estim')\n",
    "output_wav,output_spec = Load(root_sample,'DCUNET_t28')\n",
    "print(clean_wav.shape)\n",
    "print(clean_spec.shape)\n",
    "print(estim_wav.shape)\n",
    "print(estim_spec.shape)\n",
    "print(output_wav.shape)\n",
    "print(output_spec.shape)"
   ]
  },
  {
   "cell_type": "markdown",
   "id": "1f9a17c1-45f8-4171-83f4-73d8ff7d524a",
   "metadata": {},
   "source": [
    "# Scale inspect"
   ]
  },
  {
   "cell_type": "code",
   "execution_count": 95,
   "id": "e03c4114-c62b-420c-bb93-71802b1b08fa",
   "metadata": {},
   "outputs": [
    {
     "name": "stdout",
     "output_type": "stream",
     "text": [
      "torch.Size([10, 513, 240, 2])\n"
     ]
    }
   ],
   "source": [
    "print(estim_spec.shape)"
   ]
  },
  {
   "cell_type": "markdown",
   "id": "879160af-5455-470f-90c0-581b6d591ce0",
   "metadata": {},
   "source": [
    "## Loss"
   ]
  },
  {
   "cell_type": "code",
   "execution_count": 192,
   "id": "143aa204-7ad4-49d2-ada4-217aefc8643b",
   "metadata": {},
   "outputs": [],
   "source": [
    "# wav domain\n",
    "def SDRLoss(output,target):\n",
    "    xy = torch.diag(output @ target.t())\n",
    "    yy = torch.diag(target @ target.t())\n",
    "    xx = torch.diag(output @ output.t())\n",
    "\n",
    "    SDR = xy**2/ (yy*xx - xy**2 )\n",
    "    return torch.mean(SDR) \n",
    "\n",
    "def iSDRLoss(output,target):\n",
    "    sdr = SDRLoss(output,target)\n",
    "    return 1/sdr\n",
    "\n",
    "MSE = torch.nn.MSELoss() \n",
    "L1  = MSE = torch.nn.L1Loss() \n",
    "\n",
    "## Weight Error \n",
    "def t1(output,target,alpha = 0.5,is_wav=False):\n",
    "    \n",
    "    if is_wav : \n",
    "        #s_abs     = target.abs()\n",
    "        #s_hat_abs = output.abs()\n",
    "        d = target - output\n",
    "    else : \n",
    "        #print(target.shape)\n",
    "        s_abs = torch.sqrt(target[:,:,:,0]**2 + target[:,:,:,1]**2)\n",
    "        s_hat_abs = torch.sqrt(output[:,:,:,0]**2 + output[:,:,:,1]**2)\n",
    "        \n",
    "        s_abs = s_abs/torch.mean(s_abs)\n",
    "        s_hat_abs = s_hat_abs/torch.mean(s_hat_abs)\n",
    "        \n",
    "        d = s_abs - s_hat_abs\n",
    "    return torch.mean(alpha *(d + d.abs())/2 + (1-alpha) * (d-d.abs())/2)\n",
    "\n",
    "mel_basis = librosa.filters.mel(sr=16000, n_fft=1024,n_mels=40)\n",
    "mel_basis = torch.from_numpy(mel_basis)\n",
    "\n",
    "## Meldomain Weighted Error\n",
    "def t2(output,target,alpha=0.7):\n",
    "    s_mag = torch.sqrt(target[:,:,:,0]**2 + target[:,:,:,1]**2)\n",
    "    s_hat_mag = torch.sqrt(output[:,:,:,0]**2 + output[:,:,:,1]**2)\n",
    "    \n",
    "    #s_mag = s_mag/torch.mean(s_mag,dim=(1,2)).view(10, 1,1)\n",
    "    #s_hat_mag = s_hat_mag/torch.mean(s_mag,dim=(1,2)).view(10, 1,1)\n",
    "    \n",
    "    s_mag = s_mag/torch.mean(s_mag)\n",
    "    s_hat_mag = s_hat_mag/torch.mean(s_mag)\n",
    "    \n",
    "    \n",
    "   # print(mel_basis.shape)\n",
    "    #print(s_mag.shape)\n",
    "    s = torch.matmul(mel_basis,s_mag)\n",
    "    #print(s.shape)\n",
    "    s_hat = torch.matmul(mel_basis,s_hat_mag)\n",
    "    d = s - s_hat\n",
    "    return torch.mean(alpha *(d + d.abs())/2 + (1-alpha) * ((d-d.abs())).abs()/2)\n",
    "\n",
    "## Weight on Scale Error\n",
    "def t3(output,target):\n",
    "    pass"
   ]
  },
  {
   "cell_type": "code",
   "execution_count": 193,
   "id": "6ab98c27-1f34-4541-8bc6-7bc3d85bee63",
   "metadata": {},
   "outputs": [
    {
     "name": "stdout",
     "output_type": "stream",
     "text": [
      "LSD, spec , estim  , 0.9, tensor(0.0494)\n",
      "LSD, spec , output , 0.9, tensor(0.0851)\n"
     ]
    }
   ],
   "source": [
    "print(loss + ', spec , estim  , 0.9, ' + str(t2(estim_spec,clean_spec,alpha=0.9)))\n",
    "print(loss + ', spec , output , 0.9, ' + str(t2(output_spec,clean_spec,alpha=0.9))) "
   ]
  },
  {
   "cell_type": "code",
   "execution_count": 191,
   "id": "2a334b36-b949-42e1-8350-1d4dbf21b9bd",
   "metadata": {},
   "outputs": [
    {
     "name": "stdout",
     "output_type": "stream",
     "text": [
      "LSD, spec , estim  , 0.9, tensor(0.0488)\n",
      "LSD, spec , output , 0.9, tensor(0.0852)\n"
     ]
    }
   ],
   "source": [
    "print(loss + ', spec , estim  , 0.9, ' + str(t2(estim_spec,clean_spec,alpha=0.9)))\n",
    "print(loss + ', spec , output , 0.9, ' + str(t2(output_spec,clean_spec,alpha=0.9))) "
   ]
  },
  {
   "cell_type": "markdown",
   "id": "a2db0b55-e4f9-4c33-8698-ea106d216a9b",
   "metadata": {},
   "source": [
    "### On Optimal Frequency-Domain Multichannel Linear Filtering for Noise Reduction  \n",
    "https://ieeexplore.ieee.org/abstract/document/5089420  \n",
    "\n"
   ]
  },
  {
   "cell_type": "code",
   "execution_count": 158,
   "id": "e358782a-d78a-4d86-b0f8-a3649dafdce4",
   "metadata": {},
   "outputs": [],
   "source": [
    "# Resudal Signal Distortion\n",
    "def RSD(output,target) :\n",
    "    target - output\n",
    "\n",
    "# Local Signal Distortion Index\n",
    "def LSD(output,target) : \n",
    "    d = target-output\n",
    "    tmp = d*torch.conj(d)/target*torch.conj(target)\n",
    "    return torch.mean(tmp.abs()[:,:,:,0])\n",
    "\n",
    "# Local Noise Reduction factor\n",
    "def LNO():\n",
    "    pass"
   ]
  },
  {
   "cell_type": "code",
   "execution_count": 145,
   "id": "52f07ae8-d90d-45c0-a41a-811079f43a7a",
   "metadata": {},
   "outputs": [
    {
     "name": "stdout",
     "output_type": "stream",
     "text": [
      "torch.Size([])\n",
      "tensor(3.0670)\n"
     ]
    }
   ],
   "source": [
    "ttt = LSD(estim_spec,clean_spec)\n",
    "print(ttt.shape)\n",
    "print(ttt)"
   ]
  },
  {
   "cell_type": "code",
   "execution_count": 126,
   "id": "680515b6-2e37-4d00-b64e-f055ede7f7c0",
   "metadata": {},
   "outputs": [
    {
     "name": "stdout",
     "output_type": "stream",
     "text": [
      "tensor([0.9994+0.4754j])\n"
     ]
    }
   ],
   "source": [
    "x = torch.rand(1,dtype=torch.cfloat)\n",
    "print(x)"
   ]
  },
  {
   "cell_type": "code",
   "execution_count": 128,
   "id": "a5602a00-3001-46f2-a751-51f8108b59bc",
   "metadata": {},
   "outputs": [
    {
     "name": "stdout",
     "output_type": "stream",
     "text": [
      "tensor([1.2249+1.2707e-08j])\n"
     ]
    }
   ],
   "source": [
    "x = x * torch.conj(x)\n",
    "print(x)"
   ]
  },
  {
   "cell_type": "code",
   "execution_count": 130,
   "id": "160bc275-d6e0-4832-8eee-77a9ee3bd252",
   "metadata": {},
   "outputs": [
    {
     "data": {
      "text/plain": [
       "tensor([1.2249])"
      ]
     },
     "execution_count": 130,
     "metadata": {},
     "output_type": "execute_result"
    }
   ],
   "source": [
    "x.abs()"
   ]
  },
  {
   "cell_type": "markdown",
   "id": "d630ff32-35fe-41aa-816c-cb3505633a2f",
   "metadata": {},
   "source": [
    "# Get Loss  "
   ]
  },
  {
   "cell_type": "markdown",
   "id": "a5f94efa-90c9-4842-aa97-6145b147ab59",
   "metadata": {},
   "source": [
    "## IVA estim VS IVA output"
   ]
  },
  {
   "cell_type": "markdown",
   "id": "581ae829-a38e-4c76-beab-7e9f40658c6d",
   "metadata": {},
   "source": [
    "# CSV"
   ]
  },
  {
   "cell_type": "code",
   "execution_count": 172,
   "id": "5e4a8448-7fd3-4a70-9bb0-95ee9cb53f29",
   "metadata": {},
   "outputs": [
    {
     "name": "stdout",
     "output_type": "stream",
     "text": [
      "iSDR, wav  , estim  , tensor(2.0017)\n",
      "iSDR, wav  , output , tensor(0.8596)\n",
      "MSE , wav  , estim  , tensor(0.0924)\n",
      "MSE , wav  , output , tensor(0.0232)\n",
      "MSE , spec , estim  , tensor(0.4533)\n",
      "MSE , spec , output , tensor(0.1473)\n",
      "t1  , wav  , estim  , 0.9, tensor(0.0370)\n",
      "t1  , wav  , output , 0.9, tensor(0.0093)\n",
      "t1  , spec , estim  , 0.9, tensor(0.2989)\n",
      "t1  , spec , output , 0.9, tensor(0.2089)\n",
      "t1  , wav  , estim  , 0.5, tensor(8.5347e-05)\n",
      "t1  , wav  , output , 0.5, tensor(1.9859e-05)\n",
      "t1  , spec , estim  , 0.5, tensor(-8.3284e-09)\n",
      "t1  , spec , output , 0.5, tensor(-2.8158e-08)\n",
      "t1  , wav  , estim  , 0.1, tensor(-0.0369)\n",
      "t1  , wav  , output , 0.1, tensor(-0.0093)\n",
      "t1  , spec , estim  , 0.1, tensor(-0.2989)\n",
      "t1  , spec , output , 0.1, tensor(-0.2089)\n",
      "t2, spec , estim  , 1.0, tensor(0.0514)\n",
      "t2, spec , output , 1.0, tensor(0.0946)\n",
      "t2, spec , estim  , 0.99, tensor(0.0512)\n",
      "t2, spec , output , 0.99, tensor(0.0936)\n",
      "t2, spec , estim  , 0.9, tensor(0.0494)\n",
      "t2, spec , output , 0.9, tensor(0.0851)\n",
      "t2, spec , estim  , 0.5, tensor(0.0410)\n",
      "t2, spec , output , 0.5, tensor(0.0474)\n",
      "t2, spec , estim  , 0.1, tensor(0.0327)\n",
      "t2, spec , output , 0.1, tensor(0.0096)\n",
      "LSD, spec , estim  , tensor(3.0670)\n",
      "LSD, spec , output , tensor(0.4426)\n"
     ]
    }
   ],
   "source": [
    "list_run = ['iSDR', 'MSE ', 't1  ','t2','LSD']\n",
    "\n",
    "for loss in list_run : \n",
    "    if loss == 'iSDR' :\n",
    "        print(loss + ', wav  , estim  , ' + str(iSDRLoss(estim_wav,clean_wav)))\n",
    "        print(loss + ', wav  , output , ' + str(iSDRLoss(output_wav,clean_wav)))  \n",
    "    elif loss == 'MSE ':\n",
    "        print(loss + ', wav  , estim  , ' + str(MSE(estim_wav,clean_wav)))\n",
    "        print(loss + ', wav  , output , ' + str(MSE(output_wav,clean_wav)))  \n",
    "        print(loss + ', spec , estim  , ' + str(MSE(estim_spec,clean_spec)))\n",
    "        print(loss + ', spec , output , ' + str(MSE(output_spec,clean_spec)))  \n",
    "    elif loss == 't1  ' :\n",
    "        print(loss + ', wav  , estim  , 0.9, ' + str(t1(estim_wav,clean_wav,alpha=0.9,is_wav=True)))\n",
    "        print(loss + ', wav  , output , 0.9, ' + str(t1(output_wav,clean_wav,alpha=0.9,is_wav=True)))  \n",
    "        print(loss + ', spec , estim  , 0.9, ' + str(t1(estim_spec,clean_spec,alpha=0.9)))\n",
    "        print(loss + ', spec , output , 0.9, ' + str(t1(output_spec,clean_spec,alpha=0.9))) \n",
    "        \n",
    "        print(loss + ', wav  , estim  , 0.5, ' + str(t1(estim_wav,clean_wav,alpha=0.5,is_wav=True)))\n",
    "        print(loss + ', wav  , output , 0.5, ' + str(t1(output_wav,clean_wav,alpha=0.5,is_wav=True)))  \n",
    "        print(loss + ', spec , estim  , 0.5, ' + str(t1(estim_spec,clean_spec,alpha=0.5)))\n",
    "        print(loss + ', spec , output , 0.5, ' + str(t1(output_spec,clean_spec,alpha=0.5)))  \n",
    "        \n",
    "        print(loss + ', wav  , estim  , 0.1, ' + str(t1(estim_wav,clean_wav,alpha=0.1,is_wav=True)))\n",
    "        print(loss + ', wav  , output , 0.1, ' + str(t1(output_wav,clean_wav,alpha=0.1,is_wav=True)))  \n",
    "        print(loss + ', spec , estim  , 0.1, ' + str(t1(estim_spec,clean_spec,alpha=0.1)))\n",
    "        print(loss + ', spec , output , 0.1, ' + str(t1(output_spec,clean_spec,alpha=0.1)))  \n",
    "    elif loss == 't2' :\n",
    "        print(loss + ', spec , estim  , 1.0, ' + str(t2(estim_spec,clean_spec,alpha=1.0)))\n",
    "        print(loss + ', spec , output , 1.0, ' + str(t2(output_spec,clean_spec,alpha=1.0)))\n",
    "        \n",
    "        print(loss + ', spec , estim  , 0.99, ' + str(t2(estim_spec,clean_spec,alpha=0.99)))\n",
    "        print(loss + ', spec , output , 0.99, ' + str(t2(output_spec,clean_spec,alpha=0.99)))\n",
    "        \n",
    "        print(loss + ', spec , estim  , 0.9, ' + str(t2(estim_spec,clean_spec,alpha=0.9)))\n",
    "        print(loss + ', spec , output , 0.9, ' + str(t2(output_spec,clean_spec,alpha=0.9))) \n",
    "        \n",
    "        print(loss + ', spec , estim  , 0.5, ' + str(t2(estim_spec,clean_spec,alpha=0.5)))\n",
    "        print(loss + ', spec , output , 0.5, ' + str(t2(output_spec,clean_spec,alpha=0.5))) \n",
    "        \n",
    "        print(loss + ', spec , estim  , 0.1, ' + str(t2(estim_spec,clean_spec,alpha=0.1)))\n",
    "        print(loss + ', spec , output , 0.1, ' + str(t2(output_spec,clean_spec,alpha=0.1))) \n",
    "    elif loss =='LSD' :\n",
    "        print(loss + ', spec , estim  , ' + str(LSD(estim_spec,clean_spec)))\n",
    "        print(loss + ', spec , output , ' + str(LSD(output_spec,clean_spec)))  "
   ]
  },
  {
   "cell_type": "code",
   "execution_count": null,
   "id": "bac5bb55-ae98-4a66-87d0-18ef7f276831",
   "metadata": {},
   "outputs": [],
   "source": []
  }
 ],
 "metadata": {
  "kernelspec": {
   "display_name": "Python 3",
   "language": "python",
   "name": "python3"
  },
  "language_info": {
   "codemirror_mode": {
    "name": "ipython",
    "version": 3
   },
   "file_extension": ".py",
   "mimetype": "text/x-python",
   "name": "python",
   "nbconvert_exporter": "python",
   "pygments_lexer": "ipython3",
   "version": "3.8.0"
  }
 },
 "nbformat": 4,
 "nbformat_minor": 5
}
